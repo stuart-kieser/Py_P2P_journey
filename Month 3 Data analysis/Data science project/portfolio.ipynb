{
 "cells": [
  {
   "attachments": {},
   "cell_type": "markdown",
   "metadata": {},
   "source": [
    "Crypto portfolio analysis.\n",
    "The following coins listed below will be subject to market analysis pulling the relevant data required to make informed investment decisions. \n",
    "Cardano (ADA)\n",
    "Ethereum (ETH)\n",
    "Illuvium (ILV)\n",
    "Space ID (ID)\n",
    "Stacks (STX)"
   ]
  },
  {
   "cell_type": "code",
   "execution_count": null,
   "metadata": {},
   "outputs": [],
   "source": [
    "import requests\n",
    "import pandas as pd\n",
    "import numpy as np\n",
    "import matplotlib.pyplot as plt\n",
    "%matplotlib inline"
   ]
  },
  {
   "attachments": {},
   "cell_type": "markdown",
   "metadata": {},
   "source": [
    "Import the necessary libraries to work with the data requried. "
   ]
  },
  {
   "attachments": {},
   "cell_type": "markdown",
   "metadata": {},
   "source": [
    "Define the function for getting the API crypto data from crypto watch. "
   ]
  },
  {
   "cell_type": "code",
   "execution_count": null,
   "metadata": {},
   "outputs": [],
   "source": [
    "def get_price_data(symbol, exchange='bitfinex', after='2023-01-01'):\n",
    "    url = 'https://api.cryptowat.ch/markets/{exchange}/{symbol}usd/ohlc'.format(symbol=symbol, exchange=exchange)\n",
    "    resp = requests.get(url, params={'preiods': '3600', 'after': str(int(pd.Timestamp(after).timestamp()))})\n",
    "    resp.raise_for_status()\n",
    "    data = resp.json()\n",
    "    df = pd.DataFrame(data['result']['3600'], columns=['CloseTime', 'OpenPrice', 'HighPrice', 'LowPrice', 'ClosePrice', 'Volume', 'NA'])\n",
    "    df['CloseTime'] = pd.to_datetime(df['CloseTimr'], unit='s')\n",
    "    df.set_index('CloseTime', inplace=True)\n",
    "    return df\n"
   ]
  }
 ],
 "metadata": {
  "language_info": {
   "name": "python"
  },
  "orig_nbformat": 4
 },
 "nbformat": 4,
 "nbformat_minor": 2
}
