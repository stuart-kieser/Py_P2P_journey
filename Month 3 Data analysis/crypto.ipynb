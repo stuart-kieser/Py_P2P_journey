{
 "cells": [
  {
   "cell_type": "raw",
   "metadata": {},
   "source": [
    "We are going to connect to an api with a request and get bitcoin and other crypto data. "
   ]
  },
  {
   "cell_type": "code",
   "execution_count": 2,
   "metadata": {},
   "outputs": [],
   "source": [
    "import requests\n",
    "import pandas as pd"
   ]
  },
  {
   "cell_type": "raw",
   "metadata": {},
   "source": [
    "By contacting Cryptowatch we can retreive price data from an open public api: https://api.cryptowat.ch/markets/:exchange/:pair/price\n",
    "In the video it can be seen that his url is wrapped diffrently to the method i see infront of me. His:\n",
    "https://api.cryptowat.ch/markets/{exchange}/{symbol}usd/ohlc\n",
    "\n",
    "The function below has three parameters: \n",
    "    (Sybmol, Exchange, After)\n",
    "\n",
    "Symbol defines the symbol of the crypto currency. e.g. (Ada, Btc, Eth, Xrp)\n",
    "Exchange defines the exchange the data is requested from\n",
    "After defines the start date of the data\n",
    "\n",
    "The \"url=\" is the address of the API endpoint that will be used to fetch data, the format takes in symbol and exchange \n",
    "this is used to communicate with the API the correct crypto and exchange. \n",
    "\n",
    "\"resp=\" This line forms a get query, and passes in certain parameters in a dictionary for json use\n",
    "    'periods' defines the length of time in seconds. currently 3600\n",
    "    pd.Timestamp defines the start time for the data. \n",
    "    \n",
    "    a resp.raise_for_status() is called incase the https request returns an error\n",
    "\n",
    "'resp.json' extracts the data into a json format\n",
    "\n",
    "df = pd.DataFrame(data['result']['3600'], columns=['CloseTime'\n",
    ", 'OpenPrice', 'HighPrice', 'LowPrice', 'Volume', 'NA']): \n",
    "\n",
    "    This line creates a pandas DataFrame (df) using the extracted data. \n",
    "    The data['result']['3600'] part accesses the specific time period (1 hour) data from the JSON response. \n",
    "    The column names for the DataFrame are specified as ['CloseTime', 'OpenPrice', 'HighPrice', 'LowPrice', 'Volume', 'NA'].\n",
    "\n",
    "df['CloseTime'] = pd.to_datetime(df['CloseTime'], unit='s')\n",
    "\n",
    "    This line converts data back into a datetime format\n",
    "\n",
    "The set index effectively makes this column the primary_key\n",
    "\n"
   ]
  },
  {
   "cell_type": "code",
   "execution_count": 3,
   "metadata": {},
   "outputs": [],
   "source": [
    "def get_historic_price(symbol, exchange='bitfinex', after='2022-09-01'):\n",
    "    url = \"https://api.cryptowat.ch/markets/{exchange}/{symbol}usd/ohlc\".format(\n",
    "        symbol=symbol, exchange=exchange)\n",
    "    resp = requests.get(url, params={\n",
    "        \"periods\": \"3600\", \n",
    "        \"after\": str(int(pd.Timestamp(after).timestamp()))\n",
    "    })\n",
    "    resp.raise_for_status()\n",
    "    data = resp.json()\n",
    "    df = pd.DataFrame(data['result']['3600'], columns=['CloseTime', 'OpenPrice', 'HighPrice', 'LowPrice', 'Volume', 'NA'\n",
    "    ])\n",
    "    df['CloseTime'] = pd.to_datetime(df['CloseTime'], unit='s')\n",
    "    df.set_index('CloseTime', inplace=True)\n",
    "    return df"
   ]
  },
  {
   "cell_type": "raw",
   "metadata": {},
   "source": [
    "Call the data for the last week"
   ]
  },
  {
   "cell_type": "code",
   "execution_count": 4,
   "metadata": {},
   "outputs": [
    {
     "data": {
      "text/plain": [
       "Timestamp('2023-06-12 20:55:28.526160')"
      ]
     },
     "execution_count": 4,
     "metadata": {},
     "output_type": "execute_result"
    }
   ],
   "source": [
    "last_week = (pd.Timestamp.now() - pd.offsets.Day(7))\n",
    "last_week"
   ]
  },
  {
   "cell_type": "raw",
   "metadata": {},
   "source": [
    "Calling BTC, ETH, XRP"
   ]
  },
  {
   "cell_type": "code",
   "execution_count": null,
   "metadata": {},
   "outputs": [],
   "source": [
    "btc = get_historic_price(\"btc\", 'bitstamp', after=last_week)"
   ]
  },
  {
   "cell_type": "code",
   "execution_count": null,
   "metadata": {},
   "outputs": [],
   "source": [
    "eth = get_historic_price(\"eth\", 'bitstamp', after=last_week)"
   ]
  },
  {
   "cell_type": "code",
   "execution_count": null,
   "metadata": {},
   "outputs": [],
   "source": [
    "xrp = get_historic_price(\"xrp\", 'bitstamp', after=last_week)"
   ]
  },
  {
   "cell_type": "raw",
   "metadata": {},
   "source": [
    "Bitcoin:"
   ]
  },
  {
   "cell_type": "code",
   "execution_count": null,
   "metadata": {},
   "outputs": [],
   "source": [
    "btc.head()\n",
    "btc['ClosePrice'].plot(figsize=(15, 7))"
   ]
  },
  {
   "cell_type": "raw",
   "metadata": {},
   "source": [
    "Ethereum:"
   ]
  },
  {
   "cell_type": "code",
   "execution_count": null,
   "metadata": {},
   "outputs": [],
   "source": [
    "eth.head()\n",
    "eth['ClosePrice'].plot(figsize=(15, 7))"
   ]
  },
  {
   "cell_type": "raw",
   "metadata": {},
   "source": [
    "XRP:"
   ]
  },
  {
   "cell_type": "code",
   "execution_count": null,
   "metadata": {},
   "outputs": [],
   "source": [
    "xrp.head()\n",
    "xrp['ClosePrice'].plot(figsize=(15, 7))"
   ]
  }
 ],
 "metadata": {
  "kernelspec": {
   "display_name": "Python 3",
   "language": "python",
   "name": "python3"
  },
  "language_info": {
   "codemirror_mode": {
    "name": "ipython",
    "version": 3
   },
   "file_extension": ".py",
   "mimetype": "text/x-python",
   "name": "python",
   "nbconvert_exporter": "python",
   "pygments_lexer": "ipython3",
   "version": "3.9.9"
  },
  "orig_nbformat": 4
 },
 "nbformat": 4,
 "nbformat_minor": 2
}
